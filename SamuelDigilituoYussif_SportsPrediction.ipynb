{
 "cells": [
  {
   "cell_type": "code",
   "execution_count": 7,
   "id": "48d9879d-5fd5-41cc-ad50-64874b29c828",
   "metadata": {},
   "outputs": [],
   "source": [
    "import numpy as np\n",
    "import pandas as pd\n",
    "import seaborn as sns\n",
    "import matplotlib.pyplot as plt\n",
    "from sklearn.experimental import enable_iterative_imputer\n",
    "from sklearn.impute import IterativeImputer\n",
    "from sklearn.impute import SimpleImputer\n",
    "from sklearn.preprocessing import LabelEncoder\n",
    "from sklearn.preprocessing import StandardScaler\n",
    "from sklearn.model_selection import cross_val_score, train_test_split\n",
    "from sklearn.linear_model import LinearRegression\n",
    "from sklearn.ensemble import RandomForestRegressor\n",
    "from sklearn.metrics import mean_absolute_error, mean_squared_error,mean_squared_log_error,r2_score\n",
    "import xgboost as xgb\n",
    "from sklearn.ensemble import GradientBoostingRegressor\n",
    "from sklearn.model_selection import GridSearchCV\n",
    "import pickle as pkl\n",
    "import joblib"
   ]
  },
  {
   "cell_type": "markdown",
   "id": "11e161ac-3fd2-45c3-9e9d-ea4966db3ca3",
   "metadata": {},
   "source": [
    "DATA EXTRACTION "
   ]
  },
  {
   "cell_type": "code",
   "execution_count": 9,
   "id": "f5dfeab1-8207-4cd9-98f4-050aebe091ff",
   "metadata": {},
   "outputs": [
    {
     "name": "stderr",
     "output_type": "stream",
     "text": [
      "C:\\Users\\user\\AppData\\Local\\Temp\\ipykernel_45776\\517933737.py:1: DtypeWarning: Columns (108) have mixed types. Specify dtype option on import or set low_memory=False.\n",
      "  data = pd.read_csv(\"male_players (legacy).csv\")\n",
      "C:\\Users\\user\\AppData\\Local\\Temp\\ipykernel_45776\\517933737.py:3: DtypeWarning: Columns (25,108) have mixed types. Specify dtype option on import or set low_memory=False.\n",
      "  testing_data = pd.read_csv(\"players_22-1.csv\")\n"
     ]
    }
   ],
   "source": [
    "data = pd.read_csv(\"male_players (legacy).csv\")\n",
    "\n",
    "testing_data = pd.read_csv(\"players_22-1.csv\")"
   ]
  },
  {
   "cell_type": "markdown",
   "id": "846afe68-6cc5-4c82-a2dd-013af2e48f06",
   "metadata": {},
   "source": [
    "DATA PREPROCESSING "
   ]
  },
  {
   "cell_type": "code",
   "execution_count": 11,
   "id": "04f8d6e5-537d-413e-81a6-98369cc53b25",
   "metadata": {},
   "outputs": [],
   "source": [
    "# len(testing_data)"
   ]
  },
  {
   "cell_type": "code",
   "execution_count": 12,
   "id": "6ce824d0-1923-4f93-8ca8-7fdfa524cf15",
   "metadata": {
    "scrolled": true
   },
   "outputs": [
    {
     "data": {
      "text/plain": [
       "Index(['player_id', 'player_url', 'fifa_version', 'fifa_update',\n",
       "       'fifa_update_date', 'short_name', 'long_name', 'player_positions',\n",
       "       'overall', 'potential',\n",
       "       ...\n",
       "       'cdm', 'rdm', 'rwb', 'lb', 'lcb', 'cb', 'rcb', 'rb', 'gk',\n",
       "       'player_face_url'],\n",
       "      dtype='object', length=110)"
      ]
     },
     "execution_count": 12,
     "metadata": {},
     "output_type": "execute_result"
    }
   ],
   "source": [
    "pd.set_option('display.max_rows', None)\n",
    "data.columns"
   ]
  },
  {
   "cell_type": "code",
   "execution_count": 13,
   "id": "115c6571-9ecb-4208-b4bd-3cb225f0cd29",
   "metadata": {},
   "outputs": [],
   "source": [
    "#Droping Obviously irrelevant columns \n",
    "\n",
    "data.drop(['player_id','player_url','player_face_url','fifa_version','fifa_update','fifa_update_date','short_name','long_name'], axis = 1 , inplace = True)\n",
    "\n",
    "#Per data description the columns : \n",
    "#'player_id', is a unique identifier for players\n",
    "#'player_url'; a link to the players picture\n",
    "#'player_face_url' ; a link to the player's face\n",
    "# 'fifa_version' ; version of the fifa game \n",
    "#'fifa_update' ; which update of fifa game it is \n",
    "#fifa_update_date ; date of fifa game update\n",
    "# 'short_name' and 'Long_name'\n",
    "#All above attributes don't have any influence on players performance and hence not reflected in the players rating  thus we drop them\n",
    "#NB : 'long_name is left for the mean time to make sens of the data as we go on but will be dropped'"
   ]
  },
  {
   "cell_type": "code",
   "execution_count": 14,
   "id": "b0018efe-0ae1-4e9f-a615-18d0b1195379",
   "metadata": {},
   "outputs": [],
   "source": [
    "#Check which columns have missing values :\n",
    "\n",
    "# pd.set_option('display.max_rows', None) # use to display output in full \n",
    "\n",
    "# data.isna().any()"
   ]
  },
  {
   "cell_type": "code",
   "execution_count": 15,
   "id": "a1be4e7a-bcf8-4b8a-917e-818ffb7ef40f",
   "metadata": {},
   "outputs": [],
   "source": [
    "#Drop Columns 30% of Missing data \n",
    "\n",
    "null_percentage = data.isnull().mean()\n",
    "\n",
    "# Define the threshold for acceptable null values\n",
    "threshold = 0.3\n",
    "\n",
    "# Separate columns into acceptable and unacceptable based on the threshold\n",
    "acceptable_null = null_percentage[null_percentage < threshold].index.tolist()\n",
    "un_acceptable_null = null_percentage[null_percentage >= threshold].index.tolist()\n",
    "\n",
    "data = data[acceptable_null]"
   ]
  },
  {
   "cell_type": "code",
   "execution_count": 16,
   "id": "58b981a6-479e-477b-a7f2-29017c177b36",
   "metadata": {},
   "outputs": [
    {
     "data": {
      "text/plain": [
       "(161583, 94)"
      ]
     },
     "execution_count": 16,
     "metadata": {},
     "output_type": "execute_result"
    }
   ],
   "source": [
    "data.shape"
   ]
  },
  {
   "cell_type": "code",
   "execution_count": 17,
   "id": "00857cb8-5b1d-424a-af17-6e86d9a97cee",
   "metadata": {},
   "outputs": [],
   "source": [
    "#Split data into categorical and numerical for independent processing \n",
    "\n",
    "#Categorical columns in the data\n",
    "\n",
    "categorical_col  = data.select_dtypes(include = ['object'])\n",
    "\n",
    "# Numeric columns in the data\n",
    "\n",
    "numeric_col = data.select_dtypes(include = np.number)"
   ]
  },
  {
   "cell_type": "code",
   "execution_count": 18,
   "id": "2abc57b5-3f79-4485-abaf-c3cdc16e4ff5",
   "metadata": {},
   "outputs": [],
   "source": [
    "#numeric_col.head()"
   ]
  },
  {
   "cell_type": "markdown",
   "id": "57e34858-c4d5-4c1f-98c2-bc18af8d4d6c",
   "metadata": {},
   "source": [
    "Process Numeric Columns"
   ]
  },
  {
   "cell_type": "code",
   "execution_count": 20,
   "id": "26789f21-71cd-4da8-af04-e26ba0f851a5",
   "metadata": {},
   "outputs": [],
   "source": [
    "#Numeric Columns with null values?\n",
    "null_numeric_columns = numeric_col.columns[numeric_col.isnull().any()]"
   ]
  },
  {
   "cell_type": "code",
   "execution_count": 21,
   "id": "f8fb79d0-4b6f-478b-9048-c99310b54aa5",
   "metadata": {},
   "outputs": [],
   "source": [
    "#Impute only null numeric columns \n",
    "imp = IterativeImputer(max_iter=10, random_state=0)\n",
    "\n",
    "imputed_numeric_col = pd.DataFrame(np.round(imp.fit_transform(numeric_col[null_numeric_columns])),\n",
    "                                   columns=null_numeric_columns)"
   ]
  },
  {
   "cell_type": "code",
   "execution_count": 22,
   "id": "83440d8c-0f40-4b65-8095-afbe9d321ee5",
   "metadata": {},
   "outputs": [],
   "source": [
    "# Merge imputed numeric columns back into original numeric Data\n",
    "numeric_col = pd.concat([numeric_col.drop(columns=null_numeric_columns), imputed_numeric_col], axis=1)"
   ]
  },
  {
   "cell_type": "code",
   "execution_count": 23,
   "id": "fa43cdb4-00f4-4b8a-a174-c78a6b13240c",
   "metadata": {},
   "outputs": [],
   "source": [
    "# numeric_col.columns"
   ]
  },
  {
   "cell_type": "markdown",
   "id": "5ac7be84-a6e5-4887-8aed-458ae4a71d0b",
   "metadata": {},
   "source": [
    "Processing Cartegorical Columns"
   ]
  },
  {
   "cell_type": "code",
   "execution_count": 25,
   "id": "6bc2e656-0362-4c56-b850-667ccb2e229d",
   "metadata": {},
   "outputs": [],
   "source": [
    "#Get categorical columns with null values \n",
    "\n",
    "null_categorical_col = categorical_col.columns[categorical_col.isnull().any()]"
   ]
  },
  {
   "cell_type": "code",
   "execution_count": 26,
   "id": "a2132b7f-9c1d-4b67-82df-28041b90e443",
   "metadata": {},
   "outputs": [],
   "source": [
    "# Impute all null cartegorical values with mode\n",
    "\n",
    "mode_imputer = SimpleImputer(strategy='most_frequent') #Impute with mode\n",
    "\n",
    "imputed_categorical_col = mode_imputer.fit_transform(categorical_col[null_categorical_col])\n",
    "imputed_categorical_col = pd.DataFrame(imputed_categorical_col, columns = null_categorical_col)\n"
   ]
  },
  {
   "cell_type": "code",
   "execution_count": 27,
   "id": "9a2327a0-c28b-4013-bbda-2afb5ae003df",
   "metadata": {},
   "outputs": [],
   "source": [
    "#Merge imputed columns with the remaining data \n",
    "categorical_col = pd.concat([categorical_col.drop(columns=null_categorical_col), imputed_categorical_col], axis=1)"
   ]
  },
  {
   "cell_type": "code",
   "execution_count": 28,
   "id": "e7c658d3-b61a-4394-8428-97b1a48486f4",
   "metadata": {},
   "outputs": [],
   "source": [
    "# categorical_col.isnull().any()"
   ]
  },
  {
   "cell_type": "code",
   "execution_count": 29,
   "id": "25d5e230-40e0-467e-a068-5ec41275b9b5",
   "metadata": {},
   "outputs": [],
   "source": [
    "#Encode Categorical columns and And scale it \n",
    "scale = StandardScaler()\n",
    "label_encoder = LabelEncoder()\n",
    "for col in categorical_col.columns:\n",
    "    categorical_col[col] = label_encoder.fit_transform(categorical_col[col].astype(str))  # Encode and convert to string\n",
    "\n",
    "# Convert all columns to numeric for scaling\n",
    "categorical_col = categorical_col.astype(float)\n",
    "\n",
    "# Scale the data\n",
    "scaled_cat_data = scale.fit_transform(categorical_col)\n",
    "\n",
    "# Convert scaled data back to DataFrame\n",
    "categorical_col= pd.DataFrame(scaled_cat_data, columns=categorical_col.columns)"
   ]
  },
  {
   "cell_type": "markdown",
   "id": "d6d58e3b-c3aa-4fad-8af7-07a3d3c49572",
   "metadata": {},
   "source": [
    "Join Data Set "
   ]
  },
  {
   "cell_type": "code",
   "execution_count": 31,
   "id": "e1e50842-5214-4c95-9e2f-091110fdb73a",
   "metadata": {},
   "outputs": [],
   "source": [
    "#Join encoded data \n",
    "data = pd.concat([numeric_col,categorical_col],axis = 1)"
   ]
  },
  {
   "cell_type": "code",
   "execution_count": 32,
   "id": "4e4a0f39-d960-4a39-9280-47b0927a8293",
   "metadata": {},
   "outputs": [],
   "source": [
    "#Join encoded testing data\n",
    "# testing_data = pd.concat([num_col,cart_test],axis = 1)"
   ]
  },
  {
   "cell_type": "code",
   "execution_count": 33,
   "id": "4782c956-60e3-4f2a-b457-58eccd8853a1",
   "metadata": {},
   "outputs": [
    {
     "data": {
      "text/html": [
       "<div>\n",
       "<style scoped>\n",
       "    .dataframe tbody tr th:only-of-type {\n",
       "        vertical-align: middle;\n",
       "    }\n",
       "\n",
       "    .dataframe tbody tr th {\n",
       "        vertical-align: top;\n",
       "    }\n",
       "\n",
       "    .dataframe thead th {\n",
       "        text-align: right;\n",
       "    }\n",
       "</style>\n",
       "<table border=\"1\" class=\"dataframe\">\n",
       "  <thead>\n",
       "    <tr style=\"text-align: right;\">\n",
       "      <th></th>\n",
       "      <th>overall</th>\n",
       "      <th>potential</th>\n",
       "      <th>age</th>\n",
       "      <th>height_cm</th>\n",
       "      <th>weight_kg</th>\n",
       "      <th>nationality_id</th>\n",
       "      <th>weak_foot</th>\n",
       "      <th>skill_moves</th>\n",
       "      <th>international_reputation</th>\n",
       "      <th>attacking_crossing</th>\n",
       "      <th>...</th>\n",
       "      <th>lb</th>\n",
       "      <th>lcb</th>\n",
       "      <th>cb</th>\n",
       "      <th>rcb</th>\n",
       "      <th>rb</th>\n",
       "      <th>gk</th>\n",
       "      <th>league_name</th>\n",
       "      <th>club_name</th>\n",
       "      <th>club_position</th>\n",
       "      <th>club_joined_date</th>\n",
       "    </tr>\n",
       "  </thead>\n",
       "  <tbody>\n",
       "    <tr>\n",
       "      <th>0</th>\n",
       "      <td>93</td>\n",
       "      <td>95</td>\n",
       "      <td>27</td>\n",
       "      <td>169</td>\n",
       "      <td>67</td>\n",
       "      <td>52</td>\n",
       "      <td>3</td>\n",
       "      <td>4</td>\n",
       "      <td>5</td>\n",
       "      <td>84</td>\n",
       "      <td>...</td>\n",
       "      <td>-0.208506</td>\n",
       "      <td>-0.680472</td>\n",
       "      <td>-0.680472</td>\n",
       "      <td>-0.680472</td>\n",
       "      <td>-0.208506</td>\n",
       "      <td>-0.399360</td>\n",
       "      <td>-0.572762</td>\n",
       "      <td>-0.541519</td>\n",
       "      <td>-2.197400</td>\n",
       "      <td>-2.139727</td>\n",
       "    </tr>\n",
       "    <tr>\n",
       "      <th>1</th>\n",
       "      <td>92</td>\n",
       "      <td>92</td>\n",
       "      <td>29</td>\n",
       "      <td>185</td>\n",
       "      <td>80</td>\n",
       "      <td>38</td>\n",
       "      <td>4</td>\n",
       "      <td>5</td>\n",
       "      <td>5</td>\n",
       "      <td>83</td>\n",
       "      <td>...</td>\n",
       "      <td>0.024006</td>\n",
       "      <td>-0.257384</td>\n",
       "      <td>-0.257384</td>\n",
       "      <td>-0.257384</td>\n",
       "      <td>0.024006</td>\n",
       "      <td>-0.315501</td>\n",
       "      <td>-0.572762</td>\n",
       "      <td>0.782959</td>\n",
       "      <td>-0.858697</td>\n",
       "      <td>-1.935608</td>\n",
       "    </tr>\n",
       "    <tr>\n",
       "      <th>2</th>\n",
       "      <td>90</td>\n",
       "      <td>90</td>\n",
       "      <td>30</td>\n",
       "      <td>180</td>\n",
       "      <td>80</td>\n",
       "      <td>34</td>\n",
       "      <td>2</td>\n",
       "      <td>4</td>\n",
       "      <td>5</td>\n",
       "      <td>80</td>\n",
       "      <td>...</td>\n",
       "      <td>-0.147319</td>\n",
       "      <td>-0.632394</td>\n",
       "      <td>-0.632394</td>\n",
       "      <td>-0.632394</td>\n",
       "      <td>-0.147319</td>\n",
       "      <td>-0.504184</td>\n",
       "      <td>-1.317364</td>\n",
       "      <td>-0.534092</td>\n",
       "      <td>0.845107</td>\n",
       "      <td>-1.916313</td>\n",
       "    </tr>\n",
       "    <tr>\n",
       "      <th>3</th>\n",
       "      <td>90</td>\n",
       "      <td>90</td>\n",
       "      <td>32</td>\n",
       "      <td>195</td>\n",
       "      <td>95</td>\n",
       "      <td>46</td>\n",
       "      <td>4</td>\n",
       "      <td>4</td>\n",
       "      <td>5</td>\n",
       "      <td>76</td>\n",
       "      <td>...</td>\n",
       "      <td>-0.061656</td>\n",
       "      <td>-0.036224</td>\n",
       "      <td>-0.036224</td>\n",
       "      <td>-0.036224</td>\n",
       "      <td>-0.061656</td>\n",
       "      <td>-0.210678</td>\n",
       "      <td>0.337309</td>\n",
       "      <td>0.619566</td>\n",
       "      <td>0.723406</td>\n",
       "      <td>-1.519247</td>\n",
       "    </tr>\n",
       "    <tr>\n",
       "      <th>4</th>\n",
       "      <td>90</td>\n",
       "      <td>90</td>\n",
       "      <td>28</td>\n",
       "      <td>193</td>\n",
       "      <td>92</td>\n",
       "      <td>21</td>\n",
       "      <td>4</td>\n",
       "      <td>1</td>\n",
       "      <td>5</td>\n",
       "      <td>25</td>\n",
       "      <td>...</td>\n",
       "      <td>-1.089603</td>\n",
       "      <td>-0.959326</td>\n",
       "      <td>-0.959326</td>\n",
       "      <td>-0.959326</td>\n",
       "      <td>-1.089603</td>\n",
       "      <td>4.359634</td>\n",
       "      <td>-1.317364</td>\n",
       "      <td>-0.534092</td>\n",
       "      <td>-1.953999</td>\n",
       "      <td>-1.700009</td>\n",
       "    </tr>\n",
       "  </tbody>\n",
       "</table>\n",
       "<p>5 rows × 94 columns</p>\n",
       "</div>"
      ],
      "text/plain": [
       "   overall  potential  age  height_cm  weight_kg  nationality_id  weak_foot  \\\n",
       "0       93         95   27        169         67              52          3   \n",
       "1       92         92   29        185         80              38          4   \n",
       "2       90         90   30        180         80              34          2   \n",
       "3       90         90   32        195         95              46          4   \n",
       "4       90         90   28        193         92              21          4   \n",
       "\n",
       "   skill_moves  international_reputation  attacking_crossing  ...        lb  \\\n",
       "0            4                         5                  84  ... -0.208506   \n",
       "1            5                         5                  83  ...  0.024006   \n",
       "2            4                         5                  80  ... -0.147319   \n",
       "3            4                         5                  76  ... -0.061656   \n",
       "4            1                         5                  25  ... -1.089603   \n",
       "\n",
       "        lcb        cb       rcb        rb        gk  league_name  club_name  \\\n",
       "0 -0.680472 -0.680472 -0.680472 -0.208506 -0.399360    -0.572762  -0.541519   \n",
       "1 -0.257384 -0.257384 -0.257384  0.024006 -0.315501    -0.572762   0.782959   \n",
       "2 -0.632394 -0.632394 -0.632394 -0.147319 -0.504184    -1.317364  -0.534092   \n",
       "3 -0.036224 -0.036224 -0.036224 -0.061656 -0.210678     0.337309   0.619566   \n",
       "4 -0.959326 -0.959326 -0.959326 -1.089603  4.359634    -1.317364  -0.534092   \n",
       "\n",
       "   club_position  club_joined_date  \n",
       "0      -2.197400         -2.139727  \n",
       "1      -0.858697         -1.935608  \n",
       "2       0.845107         -1.916313  \n",
       "3       0.723406         -1.519247  \n",
       "4      -1.953999         -1.700009  \n",
       "\n",
       "[5 rows x 94 columns]"
      ]
     },
     "execution_count": 33,
     "metadata": {},
     "output_type": "execute_result"
    }
   ],
   "source": [
    "data.head()"
   ]
  },
  {
   "cell_type": "code",
   "execution_count": 34,
   "id": "c6813c1b-ccc3-436c-98b5-fa6ea4a402f4",
   "metadata": {},
   "outputs": [],
   "source": [
    "# testing_data.head()"
   ]
  },
  {
   "cell_type": "markdown",
   "id": "a373438d-7101-421f-bfe1-7d02b746da1d",
   "metadata": {},
   "source": [
    "FEATURE ENGINEERING "
   ]
  },
  {
   "cell_type": "code",
   "execution_count": 36,
   "id": "56ab97c9-38f7-40c2-9a81-00a26cb875fb",
   "metadata": {},
   "outputs": [],
   "source": [
    "#Helper method to plot correlation matrix \n",
    "def plot_correlation(df, target_column, columns_to_plot):\n",
    "    # Calculate correlations\n",
    "    correlations = df[columns_to_plot].corrwith(df[target_column])\n",
    "\n",
    "    # Sort correlations in descending order\n",
    "    correlations = correlations.sort_values(ascending=False)\n",
    "\n",
    "    # Plot\n",
    "    plt.figure(figsize=(10, 6))\n",
    "    correlations.plot(kind='bar', color='blue')\n",
    "    plt.title(f'Correlation with {target_column}')\n",
    "    plt.xlabel('Features')\n",
    "    plt.ylabel('Correlation')\n",
    "    plt.xticks(rotation=90)\n",
    "    plt.tight_layout()\n",
    "    plt.show()    "
   ]
  },
  {
   "cell_type": "code",
   "execution_count": 37,
   "id": "3ecb1937-bdd9-4357-99fb-d35e87122ce9",
   "metadata": {},
   "outputs": [],
   "source": [
    "# Compute correlation matrix\n",
    "data_corr = data.corr()\n",
    "\n",
    "# Extract the correlation values for 'overall'\n",
    "overall_corr = data_corr['overall']\n",
    "\n",
    "# Filter columns with absolute correlation coefficient greater than 0.5\n",
    "filtered_columns = overall_corr[overall_corr.abs() > 0.5].index.tolist()\n",
    "\n",
    "# Filter the original DataFrame based on the selected columns\n",
    "data = data[filtered_columns]"
   ]
  },
  {
   "cell_type": "code",
   "execution_count": 38,
   "id": "bb19aa4e-dce6-43a7-be92-1753c77b59f7",
   "metadata": {},
   "outputs": [
    {
     "data": {
      "image/png": "[encoded data removed]",
      "text/plain": [
       "<Figure size 1000x600 with 1 Axes>"
      ]
     },
     "metadata": {},
     "output_type": "display_data"
    }
   ],
   "source": [
    "#Plot correlation within training data \n",
    "plot_correlation(data,'overall',data.drop('overall',axis = 1).columns.tolist())"
   ]
  },
  {
   "cell_type": "code",
   "execution_count": 39,
   "id": "a76b11f2-4632-4263-a53f-fa4e7feac964",
   "metadata": {},
   "outputs": [],
   "source": [
    "#Extract the most relevant features \n",
    "#From observation and intiution using positions for overall rating would mean a bias in the player rating hence drop all player positions\n",
    "data.drop(['rcm','cm','lcm','lf','cf','rf','lw','rw','lam','cam','ram','lm','rm','st','ls','rs','cdm','rdm','ldm','rwb','lwb'],axis = 1, inplace = True)"
   ]
  },
  {
   "cell_type": "code",
   "execution_count": null,
   "id": "d76e439e-7bed-4ff4-8066-fd119be4fb7d",
   "metadata": {},
   "outputs": [],
   "source": []
  },
  {
   "cell_type": "code",
   "execution_count": 40,
   "id": "a42e14f0-c6ed-468a-a6aa-3d9a0b2fbc74",
   "metadata": {},
   "outputs": [],
   "source": [
    "#Separate the data into dependent and independent \n",
    "\n",
    "Y = data['overall'] #dependent variable\n",
    "\n",
    "X = data.drop('overall', axis = 1) #independent variable\n",
    "\n",
    "#Scale independent variable\n",
    "scale = StandardScaler()\n",
    "scaled  = scale.fit_transform(X)"
   ]
  },
  {
   "cell_type": "code",
   "execution_count": 41,
   "id": "342cdc60-fc1f-47c1-ae03-af7bb4a55caa",
   "metadata": {},
   "outputs": [],
   "source": [
    "X = pd.DataFrame(scaled, columns = X.columns) #To make it better organized "
   ]
  },
  {
   "cell_type": "markdown",
   "id": "f81434c5-00fa-493b-a874-a3cb475e13b9",
   "metadata": {},
   "source": [
    "TRAINING MODELS "
   ]
  },
  {
   "cell_type": "code",
   "execution_count": 43,
   "id": "0e0c5cb9-9c13-4b43-91b8-2a11e852864b",
   "metadata": {},
   "outputs": [],
   "source": [
    "#Split data for training(Get 20% of the data as testing) \n",
    "X_train, X_test, Y_train, Y_test = train_test_split(X, Y, test_size=0.2, random_state=42)"
   ]
  },
  {
   "cell_type": "markdown",
   "id": "82831e1e-3efa-4074-a7f2-b31891b0e8ad",
   "metadata": {},
   "source": [
    "Random Forest "
   ]
  },
  {
   "cell_type": "code",
   "execution_count": 45,
   "id": "b2692ac5-47c6-45aa-b0ed-1ee3fe3d4c4e",
   "metadata": {},
   "outputs": [],
   "source": [
    "# Training module (Random Forest)\n",
    "rf = RandomForestRegressor()"
   ]
  },
  {
   "cell_type": "code",
   "execution_count": 46,
   "id": "8625fab2-b66b-4914-a22c-539c187f270a",
   "metadata": {},
   "outputs": [
    {
     "name": "stdout",
     "output_type": "stream",
     "text": [
      "Mean CV Score: 0.9586145595078884\n"
     ]
    }
   ],
   "source": [
    "# Perform cross-validation\n",
    "cv_scores = cross_val_score(rf, X_train, Y_train, cv=5,scoring='r2')  # cv=5 for 5-fold cross-validation\n",
    "\n",
    "# Print mean cross-validation score\n",
    "print(\"Mean CV Score:\", cv_scores.mean())"
   ]
  },
  {
   "cell_type": "code",
   "execution_count": 82,
   "id": "d206fd52-c6c9-4874-9b1c-d9b4cf3aa051",
   "metadata": {},
   "outputs": [],
   "source": [
    "# Fit the model on the data set\n",
    "rf.fit(X_train, Y_train)\n",
    "\n",
    "# Predict on the test set\n",
    "y_pred = rf.predict(X_test)"
   ]
  },
  {
   "cell_type": "code",
   "execution_count": 83,
   "id": "d9087e9a-296b-42f8-8ee5-bcaec32ad9d3",
   "metadata": {},
   "outputs": [],
   "source": [
    "#Helper method to display first ten values of the predicted and actual values \n",
    "def compare_output(actual_data, predicted_data):\n",
    "    #Compare ouput in test data\n",
    "    width = 6\n",
    "    print(\"{:<{}} vs {:<{}}\".format(\"Actual\", width, \"Predicted\", width))\n",
    "    \n",
    "    print(\"-\" * (width + width + width))\n",
    "    \n",
    "    #Format output\n",
    "    for i in range(10):\n",
    "        print(\"{:<{}} | {:<{}}\".format(actual_data.iloc[i], width, predicted_data[i], width))"
   ]
  },
  {
   "cell_type": "code",
   "execution_count": 86,
   "id": "906dbc71-a6b9-43db-87b1-6081effaa030",
   "metadata": {},
   "outputs": [
    {
     "name": "stdout",
     "output_type": "stream",
     "text": [
      "Actual vs Predicted\n",
      "------------------\n",
      "63     | 66.43 \n",
      "64     | 65.29 \n",
      "68     | 68.91 \n",
      "63     | 63.86 \n",
      "69     | 68.46 \n",
      "75     | 73.7  \n",
      "67     | 66.34 \n",
      "78     | 77.51 \n",
      "66     | 65.99 \n",
      "70     | 71.44 \n"
     ]
    }
   ],
   "source": [
    "#Compare actual and predicted values of random forest regressor \n",
    "compare_output(Y_test, y_pred)"
   ]
  },
  {
   "cell_type": "markdown",
   "id": "7383ed89-4f9e-4594-b9e3-090759bd785d",
   "metadata": {},
   "source": [
    "XGb_boost module"
   ]
  },
  {
   "cell_type": "code",
   "execution_count": 363,
   "id": "65a1f307-a1f1-48d4-b9b6-1f23e01fd5d7",
   "metadata": {
    "jupyter": {
     "source_hidden": true
    }
   },
   "outputs": [],
   "source": [
    "# Initialize XGBRegressor\n",
    "xgb_model = xgb.XGBRegressor()"
   ]
  },
  {
   "cell_type": "code",
   "execution_count": 364,
   "id": "018f6d85-8972-4b1b-9e5f-953c67e39adf",
   "metadata": {
    "jupyter": {
     "source_hidden": true
    }
   },
   "outputs": [
    {
     "name": "stdout",
     "output_type": "stream",
     "text": [
      "Mean Cross-validation R2 Score: 0.9543573046718613\n"
     ]
    }
   ],
   "source": [
    "# Perform cross-validation\n",
    "cv_scores = cross_val_score(xgb_model, X_train, Y_train, cv = 5, scoring='r2')  # Using R2 score for evaluation\n",
    "\n",
    "# Print mean cross-validation score\n",
    "print(\"Mean Cross-validation R2 Score:\", cv_scores.mean())"
   ]
  },
  {
   "cell_type": "code",
   "execution_count": 365,
   "id": "1bf45b50-5282-490d-aee6-e0e444c08f9d",
   "metadata": {
    "jupyter": {
     "source_hidden": true
    }
   },
   "outputs": [],
   "source": [
    "# Fit the model on the data set\n",
    "xgb_model.fit(X_train, Y_train)\n",
    "\n",
    "# Predict on the test set\n",
    "Y_pred_xgb = xgb_model.predict(X_test)"
   ]
  },
  {
   "cell_type": "markdown",
   "id": "fb465d58-803e-4c83-ba80-351a1c349c21",
   "metadata": {},
   "source": [
    "Gradient Boosting regressor"
   ]
  },
  {
   "cell_type": "code",
   "execution_count": 367,
   "id": "61cad7df-25f2-4438-919b-b998bef97bb7",
   "metadata": {
    "jupyter": {
     "source_hidden": true
    }
   },
   "outputs": [],
   "source": [
    "gbr = GradientBoostingRegressor()"
   ]
  },
  {
   "cell_type": "code",
   "execution_count": 368,
   "id": "f883dcc2-ec10-4d0d-b6a9-a3a375337029",
   "metadata": {
    "jupyter": {
     "source_hidden": true
    }
   },
   "outputs": [
    {
     "name": "stdout",
     "output_type": "stream",
     "text": [
      "Mean Cross-validation R2 Score: 0.9349241219808041\n"
     ]
    }
   ],
   "source": [
    "# Perform cross-validation\n",
    "cv_scores = cross_val_score(gbr, X_train, Y_train, cv=5, scoring='r2')  \n",
    "\n",
    "# print(\"Cross-validation R2 Scores:\", cv_scores)\n",
    "print(\"Mean Cross-validation R2 Score:\", cv_scores.mean())"
   ]
  },
  {
   "cell_type": "code",
   "execution_count": 369,
   "id": "f75d4ab3-fb65-4217-99f8-117e67588d62",
   "metadata": {
    "jupyter": {
     "source_hidden": true
    }
   },
   "outputs": [],
   "source": [
    "# Fit the model on the data set\n",
    "gbr.fit(X_train, Y_train)\n",
    "\n",
    "# Predict on the test set\n",
    "Y_pred_gbr = gbr.predict(X_test)"
   ]
  },
  {
   "cell_type": "markdown",
   "id": "1f72754e-6122-4786-98b8-824f4a2c826c",
   "metadata": {},
   "source": [
    "EVALUATION OF MODELS "
   ]
  },
  {
   "cell_type": "code",
   "execution_count": 99,
   "id": "3ddfc5d4-6a09-4b17-a03a-9a1bd1250cb9",
   "metadata": {},
   "outputs": [],
   "source": [
    "#Helper Method for Evaluation\n",
    "def model_eval(model_name, pred, test) :\n",
    "    print(f\"\"\"{model_name} Evaluation Metrics:\n",
    "    Mean Absolute Error: {mean_absolute_error(pred, test)}\n",
    "    Mean Squared Error: {mean_squared_error(pred, test)}\n",
    "    Root Mean Squared Error: {np.sqrt(mean_squared_error(pred, test))}\n",
    "    R2 Score: {r2_score(pred, test)}\"\"\")"
   ]
  },
  {
   "cell_type": "code",
   "execution_count": 501,
   "id": "fc82dbcd-a211-4b93-be39-3f3b7150aa41",
   "metadata": {},
   "outputs": [
    {
     "name": "stdout",
     "output_type": "stream",
     "text": [
      "Random Forest Regressor Evaluation Metrics:\n",
      "    Mean Absolute Error: 0.9488068044682366\n",
      "    Mean Squared Error: 2.007130110085679\n",
      "    Root Mean Squared Error: 1.416732194201035\n",
      "    R2 Score: 0.9576308683357814\n"
     ]
    }
   ],
   "source": [
    "# Evaluation metrics for Random Forest Regression model \n",
    "model_eval('Random Forest Regressor',y_pred,Y_test)"
   ]
  },
  {
   "cell_type": "code",
   "execution_count": 503,
   "id": "181d50e4-b85b-448b-b1b5-c6c0829a578a",
   "metadata": {},
   "outputs": [
    {
     "name": "stdout",
     "output_type": "stream",
     "text": [
      "XGBoost Regression Evaluation Metrics:\n",
      "    Mean Absolute Error: 1.0917830839197533\n",
      "    Mean Squared Error: 2.25049367596656\n",
      "    Root Mean Squared Error: 1.5001645496299931\n",
      "    R2 Score: 0.95459376369317\n"
     ]
    }
   ],
   "source": [
    "# Evaluation metrics for XGB boost regression \n",
    "model_eval('XGBoost Regression',Y_test, Y_pred_xgb)"
   ]
  },
  {
   "cell_type": "code",
   "execution_count": 505,
   "id": "5a6d14f7-38b3-4aa0-928b-bc5ee3d5c2fe",
   "metadata": {},
   "outputs": [
    {
     "name": "stdout",
     "output_type": "stream",
     "text": [
      "Gradient Boosting Regression Evaluation Metrics:\n",
      "    Mean Absolute Error: 1.3405254873915502\n",
      "    Mean Squared Error: 3.1700810823078442\n",
      "    Root Mean Squared Error: 1.7804721515114592\n",
      "    R2 Score: 0.9360400554454967\n"
     ]
    }
   ],
   "source": [
    "# Evaluation metrics for gradient boost algorithm \n",
    "model_eval('Gradient Boosting Regression',Y_test,Y_pred_gbr)"
   ]
  },
  {
   "cell_type": "markdown",
   "id": "4e95b3d8-7938-48b4-9949-f9b97084f380",
   "metadata": {},
   "source": [
    "FINE TUNE BEST MODEL"
   ]
  },
  {
   "cell_type": "markdown",
   "id": "04bb06dc-c877-4e08-b7e5-d8b0b28cce94",
   "metadata": {},
   "source": [
    "Fine Tune Random Forest Model "
   ]
  },
  {
   "cell_type": "code",
   "execution_count": 88,
   "id": "261c6168-d9e3-42a1-bd68-2c6f0256f24a",
   "metadata": {},
   "outputs": [],
   "source": [
    "# Define the parameter grid\n",
    "param_grid = {\n",
    "    'n_estimators': [50, 100, 150],            \n",
    "    'max_depth': [10, 20, None],               \n",
    "    'min_samples_split': [2, 5],               \n",
    "    'min_samples_leaf': [1, 2, 4],             \n",
    "    'max_features': ['auto', 'sqrt'],          \n",
    "    'bootstrap': [True]                  \n",
    "}"
   ]
  },
  {
   "cell_type": "code",
   "execution_count": 90,
   "id": "eb7a7a2f-4e59-49ce-8feb-7044e05fd73f",
   "metadata": {},
   "outputs": [],
   "source": [
    "# Initialize  GridSearchCV object\n",
    "grid_search = GridSearchCV(estimator=rf, param_grid=param_grid, cv=5, scoring='neg_mean_squared_error')"
   ]
  },
  {
   "cell_type": "code",
   "execution_count": 92,
   "id": "f4257972-d2e1-407c-8da8-a51e14dca4c0",
   "metadata": {},
   "outputs": [
    {
     "name": "stderr",
     "output_type": "stream",
     "text": [
      "C:\\Users\\user\\AppData\\Roaming\\Python\\Python311\\site-packages\\sklearn\\model_selection\\_validation.py:540: FitFailedWarning: \n",
      "270 fits failed out of a total of 540.\n",
      "The score on these train-test partitions for these parameters will be set to nan.\n",
      "If these failures are not expected, you can try to debug them by setting error_score='raise'.\n",
      "\n",
      "Below are more details about the failures:\n",
      "--------------------------------------------------------------------------------\n",
      "270 fits failed with the following error:\n",
      "Traceback (most recent call last):\n",
      "  File \"C:\\Users\\user\\AppData\\Roaming\\Python\\Python311\\site-packages\\sklearn\\model_selection\\_validation.py\", line 888, in _fit_and_score\n",
      "    estimator.fit(X_train, y_train, **fit_params)\n",
      "  File \"C:\\Users\\user\\AppData\\Roaming\\Python\\Python311\\site-packages\\sklearn\\base.py\", line 1466, in wrapper\n",
      "    estimator._validate_params()\n",
      "  File \"C:\\Users\\user\\AppData\\Roaming\\Python\\Python311\\site-packages\\sklearn\\base.py\", line 666, in _validate_params\n",
      "    validate_parameter_constraints(\n",
      "  File \"C:\\Users\\user\\AppData\\Roaming\\Python\\Python311\\site-packages\\sklearn\\utils\\_param_validation.py\", line 95, in validate_parameter_constraints\n",
      "    raise InvalidParameterError(\n",
      "sklearn.utils._param_validation.InvalidParameterError: The 'max_features' parameter of RandomForestRegressor must be an int in the range [1, inf), a float in the range (0.0, 1.0], a str among {'log2', 'sqrt'} or None. Got 'auto' instead.\n",
      "\n",
      "  warnings.warn(some_fits_failed_message, FitFailedWarning)\n",
      "C:\\Users\\user\\AppData\\Roaming\\Python\\Python311\\site-packages\\sklearn\\model_selection\\_search.py:1052: UserWarning: One or more of the test scores are non-finite: [        nan         nan         nan         nan         nan         nan\n",
      "         nan         nan         nan         nan         nan         nan\n",
      "         nan         nan         nan         nan         nan         nan\n",
      " -2.88724747 -2.85571279 -2.85563079 -2.90094053 -2.8658795  -2.86009994\n",
      " -2.88757255 -2.86194084 -2.85865134 -2.88082855 -2.86659645 -2.8587263\n",
      " -2.87114195 -2.87754225 -2.86089244 -2.88391517 -2.86875733 -2.86289394\n",
      "         nan         nan         nan         nan         nan         nan\n",
      "         nan         nan         nan         nan         nan         nan\n",
      "         nan         nan         nan         nan         nan         nan\n",
      " -2.06882737 -2.04023085 -2.02923317 -2.09143659 -2.06775959 -2.05357822\n",
      " -2.10169618 -2.08586941 -2.07413887 -2.11988738 -2.08881925 -2.08078189\n",
      " -2.18569413 -2.16315382 -2.15882898 -2.18020874 -2.16157423 -2.15468218\n",
      "         nan         nan         nan         nan         nan         nan\n",
      "         nan         nan         nan         nan         nan         nan\n",
      "         nan         nan         nan         nan         nan         nan\n",
      " -2.0505463  -2.01298415 -2.00661644 -2.06874864 -2.04001052 -2.03547169\n",
      " -2.08386991 -2.0640454  -2.05565188 -2.10070244 -2.07165665 -2.06321246\n",
      " -2.17432805 -2.1548922  -2.14944819 -2.17179372 -2.15248183 -2.14997693]\n",
      "  warnings.warn(\n"
     ]
    },
    {
     "data": {
      "text/html": [
       "<style>#sk-container-id-1 {\n",
       "  /* Definition of color scheme common for light and dark mode */\n",
       "  --sklearn-color-text: black;\n",
       "  --sklearn-color-line: gray;\n",
       "  /* Definition of color scheme for unfitted estimators */\n",
       "  --sklearn-color-unfitted-level-0: #fff5e6;\n",
       "  --sklearn-color-unfitted-level-1: #f6e4d2;\n",
       "  --sklearn-color-unfitted-level-2: #ffe0b3;\n",
       "  --sklearn-color-unfitted-level-3: chocolate;\n",
       "  /* Definition of color scheme for fitted estimators */\n",
       "  --sklearn-color-fitted-level-0: #f0f8ff;\n",
       "  --sklearn-color-fitted-level-1: #d4ebff;\n",
       "  --sklearn-color-fitted-level-2: #b3dbfd;\n",
       "  --sklearn-color-fitted-level-3: cornflowerblue;\n",
       "\n",
       "  /* Specific color for light theme */\n",
       "  --sklearn-color-text-on-default-background: var(--sg-text-color, var(--theme-code-foreground, var(--jp-content-font-color1, black)));\n",
       "  --sklearn-color-background: var(--sg-background-color, var(--theme-background, var(--jp-layout-color0, white)));\n",
       "  --sklearn-color-border-box: var(--sg-text-color, var(--theme-code-foreground, var(--jp-content-font-color1, black)));\n",
       "  --sklearn-color-icon: #696969;\n",
       "\n",
       "  @media (prefers-color-scheme: dark) {\n",
       "    /* Redefinition of color scheme for dark theme */\n",
       "    --sklearn-color-text-on-default-background: var(--sg-text-color, var(--theme-code-foreground, var(--jp-content-font-color1, white)));\n",
       "    --sklearn-color-background: var(--sg-background-color, var(--theme-background, var(--jp-layout-color0, #111)));\n",
       "    --sklearn-color-border-box: var(--sg-text-color, var(--theme-code-foreground, var(--jp-content-font-color1, white)));\n",
       "    --sklearn-color-icon: #878787;\n",
       "  }\n",
       "}\n",
       "\n",
       "#sk-container-id-1 {\n",
       "  color: var(--sklearn-color-text);\n",
       "}\n",
       "\n",
       "#sk-container-id-1 pre {\n",
       "  padding: 0;\n",
       "}\n",
       "\n",
       "#sk-container-id-1 input.sk-hidden--visually {\n",
       "  border: 0;\n",
       "  clip: rect(1px 1px 1px 1px);\n",
       "  clip: rect(1px, 1px, 1px, 1px);\n",
       "  height: 1px;\n",
       "  margin: -1px;\n",
       "  overflow: hidden;\n",
       "  padding: 0;\n",
       "  position: absolute;\n",
       "  width: 1px;\n",
       "}\n",
       "\n",
       "#sk-container-id-1 div.sk-dashed-wrapped {\n",
       "  border: 1px dashed var(--sklearn-color-line);\n",
       "  margin: 0 0.4em 0.5em 0.4em;\n",
       "  box-sizing: border-box;\n",
       "  padding-bottom: 0.4em;\n",
       "  background-color: var(--sklearn-color-background);\n",
       "}\n",
       "\n",
       "#sk-container-id-1 div.sk-container {\n",
       "  /* jupyter's `normalize.less` sets `[hidden] { display: none; }`\n",
       "     but bootstrap.min.css set `[hidden] { display: none !important; }`\n",
       "     so we also need the `!important` here to be able to override the\n",
       "     default hidden behavior on the sphinx rendered scikit-learn.org.\n",
       "     See: https://github.com/scikit-learn/scikit-learn/issues/21755 */\n",
       "  display: inline-block !important;\n",
       "  position: relative;\n",
       "}\n",
       "\n",
       "#sk-container-id-1 div.sk-text-repr-fallback {\n",
       "  display: none;\n",
       "}\n",
       "\n",
       "div.sk-parallel-item,\n",
       "div.sk-serial,\n",
       "div.sk-item {\n",
       "  /* draw centered vertical line to link estimators */\n",
       "  background-image: linear-gradient(var(--sklearn-color-text-on-default-background), var(--sklearn-color-text-on-default-background));\n",
       "  background-size: 2px 100%;\n",
       "  background-repeat: no-repeat;\n",
       "  background-position: center center;\n",
       "}\n",
       "\n",
       "/* Parallel-specific style estimator block */\n",
       "\n",
       "#sk-container-id-1 div.sk-parallel-item::after {\n",
       "  content: \"\";\n",
       "  width: 100%;\n",
       "  border-bottom: 2px solid var(--sklearn-color-text-on-default-background);\n",
       "  flex-grow: 1;\n",
       "}\n",
       "\n",
       "#sk-container-id-1 div.sk-parallel {\n",
       "  display: flex;\n",
       "  align-items: stretch;\n",
       "  justify-content: center;\n",
       "  background-color: var(--sklearn-color-background);\n",
       "  position: relative;\n",
       "}\n",
       "\n",
       "#sk-container-id-1 div.sk-parallel-item {\n",
       "  display: flex;\n",
       "  flex-direction: column;\n",
       "}\n",
       "\n",
       "#sk-container-id-1 div.sk-parallel-item:first-child::after {\n",
       "  align-self: flex-end;\n",
       "  width: 50%;\n",
       "}\n",
       "\n",
       "#sk-container-id-1 div.sk-parallel-item:last-child::after {\n",
       "  align-self: flex-start;\n",
       "  width: 50%;\n",
       "}\n",
       "\n",
       "#sk-container-id-1 div.sk-parallel-item:only-child::after {\n",
       "  width: 0;\n",
       "}\n",
       "\n",
       "/* Serial-specific style estimator block */\n",
       "\n",
       "#sk-container-id-1 div.sk-serial {\n",
       "  display: flex;\n",
       "  flex-direction: column;\n",
       "  align-items: center;\n",
       "  background-color: var(--sklearn-color-background);\n",
       "  padding-right: 1em;\n",
       "  padding-left: 1em;\n",
       "}\n",
       "\n",
       "\n",
       "/* Toggleable style: style used for estimator/Pipeline/ColumnTransformer box that is\n",
       "clickable and can be expanded/collapsed.\n",
       "- Pipeline and ColumnTransformer use this feature and define the default style\n",
       "- Estimators will overwrite some part of the style using the `sk-estimator` class\n",
       "*/\n",
       "\n",
       "/* Pipeline and ColumnTransformer style (default) */\n",
       "\n",
       "#sk-container-id-1 div.sk-toggleable {\n",
       "  /* Default theme specific background. It is overwritten whether we have a\n",
       "  specific estimator or a Pipeline/ColumnTransformer */\n",
       "  background-color: var(--sklearn-color-background);\n",
       "}\n",
       "\n",
       "/* Toggleable label */\n",
       "#sk-container-id-1 label.sk-toggleable__label {\n",
       "  cursor: pointer;\n",
       "  display: block;\n",
       "  width: 100%;\n",
       "  margin-bottom: 0;\n",
       "  padding: 0.5em;\n",
       "  box-sizing: border-box;\n",
       "  text-align: center;\n",
       "}\n",
       "\n",
       "#sk-container-id-1 label.sk-toggleable__label-arrow:before {\n",
       "  /* Arrow on the left of the label */\n",
       "  content: \"▸\";\n",
       "  float: left;\n",
       "  margin-right: 0.25em;\n",
       "  color: var(--sklearn-color-icon);\n",
       "}\n",
       "\n",
       "#sk-container-id-1 label.sk-toggleable__label-arrow:hover:before {\n",
       "  color: var(--sklearn-color-text);\n",
       "}\n",
       "\n",
       "/* Toggleable content - dropdown */\n",
       "\n",
       "#sk-container-id-1 div.sk-toggleable__content {\n",
       "  max-height: 0;\n",
       "  max-width: 0;\n",
       "  overflow: hidden;\n",
       "  text-align: left;\n",
       "  /* unfitted */\n",
       "  background-color: var(--sklearn-color-unfitted-level-0);\n",
       "}\n",
       "\n",
       "#sk-container-id-1 div.sk-toggleable__content.fitted {\n",
       "  /* fitted */\n",
       "  background-color: var(--sklearn-color-fitted-level-0);\n",
       "}\n",
       "\n",
       "#sk-container-id-1 div.sk-toggleable__content pre {\n",
       "  margin: 0.2em;\n",
       "  border-radius: 0.25em;\n",
       "  color: var(--sklearn-color-text);\n",
       "  /* unfitted */\n",
       "  background-color: var(--sklearn-color-unfitted-level-0);\n",
       "}\n",
       "\n",
       "#sk-container-id-1 div.sk-toggleable__content.fitted pre {\n",
       "  /* unfitted */\n",
       "  background-color: var(--sklearn-color-fitted-level-0);\n",
       "}\n",
       "\n",
       "#sk-container-id-1 input.sk-toggleable__control:checked~div.sk-toggleable__content {\n",
       "  /* Expand drop-down */\n",
       "  max-height: 200px;\n",
       "  max-width: 100%;\n",
       "  overflow: auto;\n",
       "}\n",
       "\n",
       "#sk-container-id-1 input.sk-toggleable__control:checked~label.sk-toggleable__label-arrow:before {\n",
       "  content: \"▾\";\n",
       "}\n",
       "\n",
       "/* Pipeline/ColumnTransformer-specific style */\n",
       "\n",
       "#sk-container-id-1 div.sk-label input.sk-toggleable__control:checked~label.sk-toggleable__label {\n",
       "  color: var(--sklearn-color-text);\n",
       "  background-color: var(--sklearn-color-unfitted-level-2);\n",
       "}\n",
       "\n",
       "#sk-container-id-1 div.sk-label.fitted input.sk-toggleable__control:checked~label.sk-toggleable__label {\n",
       "  background-color: var(--sklearn-color-fitted-level-2);\n",
       "}\n",
       "\n",
       "/* Estimator-specific style */\n",
       "\n",
       "/* Colorize estimator box */\n",
       "#sk-container-id-1 div.sk-estimator input.sk-toggleable__control:checked~label.sk-toggleable__label {\n",
       "  /* unfitted */\n",
       "  background-color: var(--sklearn-color-unfitted-level-2);\n",
       "}\n",
       "\n",
       "#sk-container-id-1 div.sk-estimator.fitted input.sk-toggleable__control:checked~label.sk-toggleable__label {\n",
       "  /* fitted */\n",
       "  background-color: var(--sklearn-color-fitted-level-2);\n",
       "}\n",
       "\n",
       "#sk-container-id-1 div.sk-label label.sk-toggleable__label,\n",
       "#sk-container-id-1 div.sk-label label {\n",
       "  /* The background is the default theme color */\n",
       "  color: var(--sklearn-color-text-on-default-background);\n",
       "}\n",
       "\n",
       "/* On hover, darken the color of the background */\n",
       "#sk-container-id-1 div.sk-label:hover label.sk-toggleable__label {\n",
       "  color: var(--sklearn-color-text);\n",
       "  background-color: var(--sklearn-color-unfitted-level-2);\n",
       "}\n",
       "\n",
       "/* Label box, darken color on hover, fitted */\n",
       "#sk-container-id-1 div.sk-label.fitted:hover label.sk-toggleable__label.fitted {\n",
       "  color: var(--sklearn-color-text);\n",
       "  background-color: var(--sklearn-color-fitted-level-2);\n",
       "}\n",
       "\n",
       "/* Estimator label */\n",
       "\n",
       "#sk-container-id-1 div.sk-label label {\n",
       "  font-family: monospace;\n",
       "  font-weight: bold;\n",
       "  display: inline-block;\n",
       "  line-height: 1.2em;\n",
       "}\n",
       "\n",
       "#sk-container-id-1 div.sk-label-container {\n",
       "  text-align: center;\n",
       "}\n",
       "\n",
       "/* Estimator-specific */\n",
       "#sk-container-id-1 div.sk-estimator {\n",
       "  font-family: monospace;\n",
       "  border: 1px dotted var(--sklearn-color-border-box);\n",
       "  border-radius: 0.25em;\n",
       "  box-sizing: border-box;\n",
       "  margin-bottom: 0.5em;\n",
       "  /* unfitted */\n",
       "  background-color: var(--sklearn-color-unfitted-level-0);\n",
       "}\n",
       "\n",
       "#sk-container-id-1 div.sk-estimator.fitted {\n",
       "  /* fitted */\n",
       "  background-color: var(--sklearn-color-fitted-level-0);\n",
       "}\n",
       "\n",
       "/* on hover */\n",
       "#sk-container-id-1 div.sk-estimator:hover {\n",
       "  /* unfitted */\n",
       "  background-color: var(--sklearn-color-unfitted-level-2);\n",
       "}\n",
       "\n",
       "#sk-container-id-1 div.sk-estimator.fitted:hover {\n",
       "  /* fitted */\n",
       "  background-color: var(--sklearn-color-fitted-level-2);\n",
       "}\n",
       "\n",
       "/* Specification for estimator info (e.g. \"i\" and \"?\") */\n",
       "\n",
       "/* Common style for \"i\" and \"?\" */\n",
       "\n",
       ".sk-estimator-doc-link,\n",
       "a:link.sk-estimator-doc-link,\n",
       "a:visited.sk-estimator-doc-link {\n",
       "  float: right;\n",
       "  font-size: smaller;\n",
       "  line-height: 1em;\n",
       "  font-family: monospace;\n",
       "  background-color: var(--sklearn-color-background);\n",
       "  border-radius: 1em;\n",
       "  height: 1em;\n",
       "  width: 1em;\n",
       "  text-decoration: none !important;\n",
       "  margin-left: 1ex;\n",
       "  /* unfitted */\n",
       "  border: var(--sklearn-color-unfitted-level-1) 1pt solid;\n",
       "  color: var(--sklearn-color-unfitted-level-1);\n",
       "}\n",
       "\n",
       ".sk-estimator-doc-link.fitted,\n",
       "a:link.sk-estimator-doc-link.fitted,\n",
       "a:visited.sk-estimator-doc-link.fitted {\n",
       "  /* fitted */\n",
       "  border: var(--sklearn-color-fitted-level-1) 1pt solid;\n",
       "  color: var(--sklearn-color-fitted-level-1);\n",
       "}\n",
       "\n",
       "/* On hover */\n",
       "div.sk-estimator:hover .sk-estimator-doc-link:hover,\n",
       ".sk-estimator-doc-link:hover,\n",
       "div.sk-label-container:hover .sk-estimator-doc-link:hover,\n",
       ".sk-estimator-doc-link:hover {\n",
       "  /* unfitted */\n",
       "  background-color: var(--sklearn-color-unfitted-level-3);\n",
       "  color: var(--sklearn-color-background);\n",
       "  text-decoration: none;\n",
       "}\n",
       "\n",
       "div.sk-estimator.fitted:hover .sk-estimator-doc-link.fitted:hover,\n",
       ".sk-estimator-doc-link.fitted:hover,\n",
       "div.sk-label-container:hover .sk-estimator-doc-link.fitted:hover,\n",
       ".sk-estimator-doc-link.fitted:hover {\n",
       "  /* fitted */\n",
       "  background-color: var(--sklearn-color-fitted-level-3);\n",
       "  color: var(--sklearn-color-background);\n",
       "  text-decoration: none;\n",
       "}\n",
       "\n",
       "/* Span, style for the box shown on hovering the info icon */\n",
       ".sk-estimator-doc-link span {\n",
       "  display: none;\n",
       "  z-index: 9999;\n",
       "  position: relative;\n",
       "  font-weight: normal;\n",
       "  right: .2ex;\n",
       "  padding: .5ex;\n",
       "  margin: .5ex;\n",
       "  width: min-content;\n",
       "  min-width: 20ex;\n",
       "  max-width: 50ex;\n",
       "  color: var(--sklearn-color-text);\n",
       "  box-shadow: 2pt 2pt 4pt #999;\n",
       "  /* unfitted */\n",
       "  background: var(--sklearn-color-unfitted-level-0);\n",
       "  border: .5pt solid var(--sklearn-color-unfitted-level-3);\n",
       "}\n",
       "\n",
       ".sk-estimator-doc-link.fitted span {\n",
       "  /* fitted */\n",
       "  background: var(--sklearn-color-fitted-level-0);\n",
       "  border: var(--sklearn-color-fitted-level-3);\n",
       "}\n",
       "\n",
       ".sk-estimator-doc-link:hover span {\n",
       "  display: block;\n",
       "}\n",
       "\n",
       "/* \"?\"-specific style due to the `<a>` HTML tag */\n",
       "\n",
       "#sk-container-id-1 a.estimator_doc_link {\n",
       "  float: right;\n",
       "  font-size: 1rem;\n",
       "  line-height: 1em;\n",
       "  font-family: monospace;\n",
       "  background-color: var(--sklearn-color-background);\n",
       "  border-radius: 1rem;\n",
       "  height: 1rem;\n",
       "  width: 1rem;\n",
       "  text-decoration: none;\n",
       "  /* unfitted */\n",
       "  color: var(--sklearn-color-unfitted-level-1);\n",
       "  border: var(--sklearn-color-unfitted-level-1) 1pt solid;\n",
       "}\n",
       "\n",
       "#sk-container-id-1 a.estimator_doc_link.fitted {\n",
       "  /* fitted */\n",
       "  border: var(--sklearn-color-fitted-level-1) 1pt solid;\n",
       "  color: var(--sklearn-color-fitted-level-1);\n",
       "}\n",
       "\n",
       "/* On hover */\n",
       "#sk-container-id-1 a.estimator_doc_link:hover {\n",
       "  /* unfitted */\n",
       "  background-color: var(--sklearn-color-unfitted-level-3);\n",
       "  color: var(--sklearn-color-background);\n",
       "  text-decoration: none;\n",
       "}\n",
       "\n",
       "#sk-container-id-1 a.estimator_doc_link.fitted:hover {\n",
       "  /* fitted */\n",
       "  background-color: var(--sklearn-color-fitted-level-3);\n",
       "}\n",
       "</style><div id=\"sk-container-id-1\" class=\"sk-top-container\"><div class=\"sk-text-repr-fallback\"><pre>GridSearchCV(cv=5, estimator=RandomForestRegressor(),\n",
       "             param_grid={&#x27;bootstrap&#x27;: [True], &#x27;max_depth&#x27;: [10, 20, None],\n",
       "                         &#x27;max_features&#x27;: [&#x27;auto&#x27;, &#x27;sqrt&#x27;],\n",
       "                         &#x27;min_samples_leaf&#x27;: [1, 2, 4],\n",
       "                         &#x27;min_samples_split&#x27;: [2, 5],\n",
       "                         &#x27;n_estimators&#x27;: [50, 100, 150]},\n",
       "             scoring=&#x27;neg_mean_squared_error&#x27;)</pre><b>In a Jupyter environment, please rerun this cell to show the HTML representation or trust the notebook. <br />On GitHub, the HTML representation is unable to render, please try loading this page with nbviewer.org.</b></div><div class=\"sk-container\" hidden><div class=\"sk-item sk-dashed-wrapped\"><div class=\"sk-label-container\"><div class=\"sk-label fitted sk-toggleable\"><input class=\"sk-toggleable__control sk-hidden--visually\" id=\"sk-estimator-id-1\" type=\"checkbox\" ><label for=\"sk-estimator-id-1\" class=\"sk-toggleable__label fitted sk-toggleable__label-arrow fitted\">&nbsp;&nbsp;GridSearchCV<a class=\"sk-estimator-doc-link fitted\" rel=\"noreferrer\" target=\"_blank\" href=\"https://scikit-learn.org/1.5/modules/generated/sklearn.model_selection.GridSearchCV.html\">?<span>Documentation for GridSearchCV</span></a><span class=\"sk-estimator-doc-link fitted\">i<span>Fitted</span></span></label><div class=\"sk-toggleable__content fitted\"><pre>GridSearchCV(cv=5, estimator=RandomForestRegressor(),\n",
       "             param_grid={&#x27;bootstrap&#x27;: [True], &#x27;max_depth&#x27;: [10, 20, None],\n",
       "                         &#x27;max_features&#x27;: [&#x27;auto&#x27;, &#x27;sqrt&#x27;],\n",
       "                         &#x27;min_samples_leaf&#x27;: [1, 2, 4],\n",
       "                         &#x27;min_samples_split&#x27;: [2, 5],\n",
       "                         &#x27;n_estimators&#x27;: [50, 100, 150]},\n",
       "             scoring=&#x27;neg_mean_squared_error&#x27;)</pre></div> </div></div><div class=\"sk-parallel\"><div class=\"sk-parallel-item\"><div class=\"sk-item\"><div class=\"sk-label-container\"><div class=\"sk-label fitted sk-toggleable\"><input class=\"sk-toggleable__control sk-hidden--visually\" id=\"sk-estimator-id-2\" type=\"checkbox\" ><label for=\"sk-estimator-id-2\" class=\"sk-toggleable__label fitted sk-toggleable__label-arrow fitted\">best_estimator_: RandomForestRegressor</label><div class=\"sk-toggleable__content fitted\"><pre>RandomForestRegressor(max_features=&#x27;sqrt&#x27;, n_estimators=150)</pre></div> </div></div><div class=\"sk-serial\"><div class=\"sk-item\"><div class=\"sk-estimator fitted sk-toggleable\"><input class=\"sk-toggleable__control sk-hidden--visually\" id=\"sk-estimator-id-3\" type=\"checkbox\" ><label for=\"sk-estimator-id-3\" class=\"sk-toggleable__label fitted sk-toggleable__label-arrow fitted\">&nbsp;RandomForestRegressor<a class=\"sk-estimator-doc-link fitted\" rel=\"noreferrer\" target=\"_blank\" href=\"https://scikit-learn.org/1.5/modules/generated/sklearn.ensemble.RandomForestRegressor.html\">?<span>Documentation for RandomForestRegressor</span></a></label><div class=\"sk-toggleable__content fitted\"><pre>RandomForestRegressor(max_features=&#x27;sqrt&#x27;, n_estimators=150)</pre></div> </div></div></div></div></div></div></div></div></div>"
      ],
      "text/plain": [
       "GridSearchCV(cv=5, estimator=RandomForestRegressor(),\n",
       "             param_grid={'bootstrap': [True], 'max_depth': [10, 20, None],\n",
       "                         'max_features': ['auto', 'sqrt'],\n",
       "                         'min_samples_leaf': [1, 2, 4],\n",
       "                         'min_samples_split': [2, 5],\n",
       "                         'n_estimators': [50, 100, 150]},\n",
       "             scoring='neg_mean_squared_error')"
      ]
     },
     "execution_count": 92,
     "metadata": {},
     "output_type": "execute_result"
    }
   ],
   "source": [
    "# Fit the model\n",
    "grid_search.fit(X_train, Y_train)"
   ]
  },
  {
   "cell_type": "code",
   "execution_count": 93,
   "id": "2276764c-e709-4f27-8b6a-2e6d5cf0b633",
   "metadata": {},
   "outputs": [
    {
     "name": "stdout",
     "output_type": "stream",
     "text": [
      "Best parameters found:  {'bootstrap': True, 'max_depth': None, 'max_features': 'sqrt', 'min_samples_leaf': 1, 'min_samples_split': 2, 'n_estimators': 150}\n"
     ]
    }
   ],
   "source": [
    "# Get the best parameters\n",
    "best_params = grid_search.best_params_\n",
    "print(\"Best parameters found: \", best_params)"
   ]
  },
  {
   "cell_type": "code",
   "execution_count": 94,
   "id": "1ac856f9-736f-45a6-b375-b4b9512d592a",
   "metadata": {},
   "outputs": [
    {
     "data": {
      "text/html": [
       "<style>#sk-container-id-2 {\n",
       "  /* Definition of color scheme common for light and dark mode */\n",
       "  --sklearn-color-text: black;\n",
       "  --sklearn-color-line: gray;\n",
       "  /* Definition of color scheme for unfitted estimators */\n",
       "  --sklearn-color-unfitted-level-0: #fff5e6;\n",
       "  --sklearn-color-unfitted-level-1: #f6e4d2;\n",
       "  --sklearn-color-unfitted-level-2: #ffe0b3;\n",
       "  --sklearn-color-unfitted-level-3: chocolate;\n",
       "  /* Definition of color scheme for fitted estimators */\n",
       "  --sklearn-color-fitted-level-0: #f0f8ff;\n",
       "  --sklearn-color-fitted-level-1: #d4ebff;\n",
       "  --sklearn-color-fitted-level-2: #b3dbfd;\n",
       "  --sklearn-color-fitted-level-3: cornflowerblue;\n",
       "\n",
       "  /* Specific color for light theme */\n",
       "  --sklearn-color-text-on-default-background: var(--sg-text-color, var(--theme-code-foreground, var(--jp-content-font-color1, black)));\n",
       "  --sklearn-color-background: var(--sg-background-color, var(--theme-background, var(--jp-layout-color0, white)));\n",
       "  --sklearn-color-border-box: var(--sg-text-color, var(--theme-code-foreground, var(--jp-content-font-color1, black)));\n",
       "  --sklearn-color-icon: #696969;\n",
       "\n",
       "  @media (prefers-color-scheme: dark) {\n",
       "    /* Redefinition of color scheme for dark theme */\n",
       "    --sklearn-color-text-on-default-background: var(--sg-text-color, var(--theme-code-foreground, var(--jp-content-font-color1, white)));\n",
       "    --sklearn-color-background: var(--sg-background-color, var(--theme-background, var(--jp-layout-color0, #111)));\n",
       "    --sklearn-color-border-box: var(--sg-text-color, var(--theme-code-foreground, var(--jp-content-font-color1, white)));\n",
       "    --sklearn-color-icon: #878787;\n",
       "  }\n",
       "}\n",
       "\n",
       "#sk-container-id-2 {\n",
       "  color: var(--sklearn-color-text);\n",
       "}\n",
       "\n",
       "#sk-container-id-2 pre {\n",
       "  padding: 0;\n",
       "}\n",
       "\n",
       "#sk-container-id-2 input.sk-hidden--visually {\n",
       "  border: 0;\n",
       "  clip: rect(1px 1px 1px 1px);\n",
       "  clip: rect(1px, 1px, 1px, 1px);\n",
       "  height: 1px;\n",
       "  margin: -1px;\n",
       "  overflow: hidden;\n",
       "  padding: 0;\n",
       "  position: absolute;\n",
       "  width: 1px;\n",
       "}\n",
       "\n",
       "#sk-container-id-2 div.sk-dashed-wrapped {\n",
       "  border: 1px dashed var(--sklearn-color-line);\n",
       "  margin: 0 0.4em 0.5em 0.4em;\n",
       "  box-sizing: border-box;\n",
       "  padding-bottom: 0.4em;\n",
       "  background-color: var(--sklearn-color-background);\n",
       "}\n",
       "\n",
       "#sk-container-id-2 div.sk-container {\n",
       "  /* jupyter's `normalize.less` sets `[hidden] { display: none; }`\n",
       "     but bootstrap.min.css set `[hidden] { display: none !important; }`\n",
       "     so we also need the `!important` here to be able to override the\n",
       "     default hidden behavior on the sphinx rendered scikit-learn.org.\n",
       "     See: https://github.com/scikit-learn/scikit-learn/issues/21755 */\n",
       "  display: inline-block !important;\n",
       "  position: relative;\n",
       "}\n",
       "\n",
       "#sk-container-id-2 div.sk-text-repr-fallback {\n",
       "  display: none;\n",
       "}\n",
       "\n",
       "div.sk-parallel-item,\n",
       "div.sk-serial,\n",
       "div.sk-item {\n",
       "  /* draw centered vertical line to link estimators */\n",
       "  background-image: linear-gradient(var(--sklearn-color-text-on-default-background), var(--sklearn-color-text-on-default-background));\n",
       "  background-size: 2px 100%;\n",
       "  background-repeat: no-repeat;\n",
       "  background-position: center center;\n",
       "}\n",
       "\n",
       "/* Parallel-specific style estimator block */\n",
       "\n",
       "#sk-container-id-2 div.sk-parallel-item::after {\n",
       "  content: \"\";\n",
       "  width: 100%;\n",
       "  border-bottom: 2px solid var(--sklearn-color-text-on-default-background);\n",
       "  flex-grow: 1;\n",
       "}\n",
       "\n",
       "#sk-container-id-2 div.sk-parallel {\n",
       "  display: flex;\n",
       "  align-items: stretch;\n",
       "  justify-content: center;\n",
       "  background-color: var(--sklearn-color-background);\n",
       "  position: relative;\n",
       "}\n",
       "\n",
       "#sk-container-id-2 div.sk-parallel-item {\n",
       "  display: flex;\n",
       "  flex-direction: column;\n",
       "}\n",
       "\n",
       "#sk-container-id-2 div.sk-parallel-item:first-child::after {\n",
       "  align-self: flex-end;\n",
       "  width: 50%;\n",
       "}\n",
       "\n",
       "#sk-container-id-2 div.sk-parallel-item:last-child::after {\n",
       "  align-self: flex-start;\n",
       "  width: 50%;\n",
       "}\n",
       "\n",
       "#sk-container-id-2 div.sk-parallel-item:only-child::after {\n",
       "  width: 0;\n",
       "}\n",
       "\n",
       "/* Serial-specific style estimator block */\n",
       "\n",
       "#sk-container-id-2 div.sk-serial {\n",
       "  display: flex;\n",
       "  flex-direction: column;\n",
       "  align-items: center;\n",
       "  background-color: var(--sklearn-color-background);\n",
       "  padding-right: 1em;\n",
       "  padding-left: 1em;\n",
       "}\n",
       "\n",
       "\n",
       "/* Toggleable style: style used for estimator/Pipeline/ColumnTransformer box that is\n",
       "clickable and can be expanded/collapsed.\n",
       "- Pipeline and ColumnTransformer use this feature and define the default style\n",
       "- Estimators will overwrite some part of the style using the `sk-estimator` class\n",
       "*/\n",
       "\n",
       "/* Pipeline and ColumnTransformer style (default) */\n",
       "\n",
       "#sk-container-id-2 div.sk-toggleable {\n",
       "  /* Default theme specific background. It is overwritten whether we have a\n",
       "  specific estimator or a Pipeline/ColumnTransformer */\n",
       "  background-color: var(--sklearn-color-background);\n",
       "}\n",
       "\n",
       "/* Toggleable label */\n",
       "#sk-container-id-2 label.sk-toggleable__label {\n",
       "  cursor: pointer;\n",
       "  display: block;\n",
       "  width: 100%;\n",
       "  margin-bottom: 0;\n",
       "  padding: 0.5em;\n",
       "  box-sizing: border-box;\n",
       "  text-align: center;\n",
       "}\n",
       "\n",
       "#sk-container-id-2 label.sk-toggleable__label-arrow:before {\n",
       "  /* Arrow on the left of the label */\n",
       "  content: \"▸\";\n",
       "  float: left;\n",
       "  margin-right: 0.25em;\n",
       "  color: var(--sklearn-color-icon);\n",
       "}\n",
       "\n",
       "#sk-container-id-2 label.sk-toggleable__label-arrow:hover:before {\n",
       "  color: var(--sklearn-color-text);\n",
       "}\n",
       "\n",
       "/* Toggleable content - dropdown */\n",
       "\n",
       "#sk-container-id-2 div.sk-toggleable__content {\n",
       "  max-height: 0;\n",
       "  max-width: 0;\n",
       "  overflow: hidden;\n",
       "  text-align: left;\n",
       "  /* unfitted */\n",
       "  background-color: var(--sklearn-color-unfitted-level-0);\n",
       "}\n",
       "\n",
       "#sk-container-id-2 div.sk-toggleable__content.fitted {\n",
       "  /* fitted */\n",
       "  background-color: var(--sklearn-color-fitted-level-0);\n",
       "}\n",
       "\n",
       "#sk-container-id-2 div.sk-toggleable__content pre {\n",
       "  margin: 0.2em;\n",
       "  border-radius: 0.25em;\n",
       "  color: var(--sklearn-color-text);\n",
       "  /* unfitted */\n",
       "  background-color: var(--sklearn-color-unfitted-level-0);\n",
       "}\n",
       "\n",
       "#sk-container-id-2 div.sk-toggleable__content.fitted pre {\n",
       "  /* unfitted */\n",
       "  background-color: var(--sklearn-color-fitted-level-0);\n",
       "}\n",
       "\n",
       "#sk-container-id-2 input.sk-toggleable__control:checked~div.sk-toggleable__content {\n",
       "  /* Expand drop-down */\n",
       "  max-height: 200px;\n",
       "  max-width: 100%;\n",
       "  overflow: auto;\n",
       "}\n",
       "\n",
       "#sk-container-id-2 input.sk-toggleable__control:checked~label.sk-toggleable__label-arrow:before {\n",
       "  content: \"▾\";\n",
       "}\n",
       "\n",
       "/* Pipeline/ColumnTransformer-specific style */\n",
       "\n",
       "#sk-container-id-2 div.sk-label input.sk-toggleable__control:checked~label.sk-toggleable__label {\n",
       "  color: var(--sklearn-color-text);\n",
       "  background-color: var(--sklearn-color-unfitted-level-2);\n",
       "}\n",
       "\n",
       "#sk-container-id-2 div.sk-label.fitted input.sk-toggleable__control:checked~label.sk-toggleable__label {\n",
       "  background-color: var(--sklearn-color-fitted-level-2);\n",
       "}\n",
       "\n",
       "/* Estimator-specific style */\n",
       "\n",
       "/* Colorize estimator box */\n",
       "#sk-container-id-2 div.sk-estimator input.sk-toggleable__control:checked~label.sk-toggleable__label {\n",
       "  /* unfitted */\n",
       "  background-color: var(--sklearn-color-unfitted-level-2);\n",
       "}\n",
       "\n",
       "#sk-container-id-2 div.sk-estimator.fitted input.sk-toggleable__control:checked~label.sk-toggleable__label {\n",
       "  /* fitted */\n",
       "  background-color: var(--sklearn-color-fitted-level-2);\n",
       "}\n",
       "\n",
       "#sk-container-id-2 div.sk-label label.sk-toggleable__label,\n",
       "#sk-container-id-2 div.sk-label label {\n",
       "  /* The background is the default theme color */\n",
       "  color: var(--sklearn-color-text-on-default-background);\n",
       "}\n",
       "\n",
       "/* On hover, darken the color of the background */\n",
       "#sk-container-id-2 div.sk-label:hover label.sk-toggleable__label {\n",
       "  color: var(--sklearn-color-text);\n",
       "  background-color: var(--sklearn-color-unfitted-level-2);\n",
       "}\n",
       "\n",
       "/* Label box, darken color on hover, fitted */\n",
       "#sk-container-id-2 div.sk-label.fitted:hover label.sk-toggleable__label.fitted {\n",
       "  color: var(--sklearn-color-text);\n",
       "  background-color: var(--sklearn-color-fitted-level-2);\n",
       "}\n",
       "\n",
       "/* Estimator label */\n",
       "\n",
       "#sk-container-id-2 div.sk-label label {\n",
       "  font-family: monospace;\n",
       "  font-weight: bold;\n",
       "  display: inline-block;\n",
       "  line-height: 1.2em;\n",
       "}\n",
       "\n",
       "#sk-container-id-2 div.sk-label-container {\n",
       "  text-align: center;\n",
       "}\n",
       "\n",
       "/* Estimator-specific */\n",
       "#sk-container-id-2 div.sk-estimator {\n",
       "  font-family: monospace;\n",
       "  border: 1px dotted var(--sklearn-color-border-box);\n",
       "  border-radius: 0.25em;\n",
       "  box-sizing: border-box;\n",
       "  margin-bottom: 0.5em;\n",
       "  /* unfitted */\n",
       "  background-color: var(--sklearn-color-unfitted-level-0);\n",
       "}\n",
       "\n",
       "#sk-container-id-2 div.sk-estimator.fitted {\n",
       "  /* fitted */\n",
       "  background-color: var(--sklearn-color-fitted-level-0);\n",
       "}\n",
       "\n",
       "/* on hover */\n",
       "#sk-container-id-2 div.sk-estimator:hover {\n",
       "  /* unfitted */\n",
       "  background-color: var(--sklearn-color-unfitted-level-2);\n",
       "}\n",
       "\n",
       "#sk-container-id-2 div.sk-estimator.fitted:hover {\n",
       "  /* fitted */\n",
       "  background-color: var(--sklearn-color-fitted-level-2);\n",
       "}\n",
       "\n",
       "/* Specification for estimator info (e.g. \"i\" and \"?\") */\n",
       "\n",
       "/* Common style for \"i\" and \"?\" */\n",
       "\n",
       ".sk-estimator-doc-link,\n",
       "a:link.sk-estimator-doc-link,\n",
       "a:visited.sk-estimator-doc-link {\n",
       "  float: right;\n",
       "  font-size: smaller;\n",
       "  line-height: 1em;\n",
       "  font-family: monospace;\n",
       "  background-color: var(--sklearn-color-background);\n",
       "  border-radius: 1em;\n",
       "  height: 1em;\n",
       "  width: 1em;\n",
       "  text-decoration: none !important;\n",
       "  margin-left: 1ex;\n",
       "  /* unfitted */\n",
       "  border: var(--sklearn-color-unfitted-level-1) 1pt solid;\n",
       "  color: var(--sklearn-color-unfitted-level-1);\n",
       "}\n",
       "\n",
       ".sk-estimator-doc-link.fitted,\n",
       "a:link.sk-estimator-doc-link.fitted,\n",
       "a:visited.sk-estimator-doc-link.fitted {\n",
       "  /* fitted */\n",
       "  border: var(--sklearn-color-fitted-level-1) 1pt solid;\n",
       "  color: var(--sklearn-color-fitted-level-1);\n",
       "}\n",
       "\n",
       "/* On hover */\n",
       "div.sk-estimator:hover .sk-estimator-doc-link:hover,\n",
       ".sk-estimator-doc-link:hover,\n",
       "div.sk-label-container:hover .sk-estimator-doc-link:hover,\n",
       ".sk-estimator-doc-link:hover {\n",
       "  /* unfitted */\n",
       "  background-color: var(--sklearn-color-unfitted-level-3);\n",
       "  color: var(--sklearn-color-background);\n",
       "  text-decoration: none;\n",
       "}\n",
       "\n",
       "div.sk-estimator.fitted:hover .sk-estimator-doc-link.fitted:hover,\n",
       ".sk-estimator-doc-link.fitted:hover,\n",
       "div.sk-label-container:hover .sk-estimator-doc-link.fitted:hover,\n",
       ".sk-estimator-doc-link.fitted:hover {\n",
       "  /* fitted */\n",
       "  background-color: var(--sklearn-color-fitted-level-3);\n",
       "  color: var(--sklearn-color-background);\n",
       "  text-decoration: none;\n",
       "}\n",
       "\n",
       "/* Span, style for the box shown on hovering the info icon */\n",
       ".sk-estimator-doc-link span {\n",
       "  display: none;\n",
       "  z-index: 9999;\n",
       "  position: relative;\n",
       "  font-weight: normal;\n",
       "  right: .2ex;\n",
       "  padding: .5ex;\n",
       "  margin: .5ex;\n",
       "  width: min-content;\n",
       "  min-width: 20ex;\n",
       "  max-width: 50ex;\n",
       "  color: var(--sklearn-color-text);\n",
       "  box-shadow: 2pt 2pt 4pt #999;\n",
       "  /* unfitted */\n",
       "  background: var(--sklearn-color-unfitted-level-0);\n",
       "  border: .5pt solid var(--sklearn-color-unfitted-level-3);\n",
       "}\n",
       "\n",
       ".sk-estimator-doc-link.fitted span {\n",
       "  /* fitted */\n",
       "  background: var(--sklearn-color-fitted-level-0);\n",
       "  border: var(--sklearn-color-fitted-level-3);\n",
       "}\n",
       "\n",
       ".sk-estimator-doc-link:hover span {\n",
       "  display: block;\n",
       "}\n",
       "\n",
       "/* \"?\"-specific style due to the `<a>` HTML tag */\n",
       "\n",
       "#sk-container-id-2 a.estimator_doc_link {\n",
       "  float: right;\n",
       "  font-size: 1rem;\n",
       "  line-height: 1em;\n",
       "  font-family: monospace;\n",
       "  background-color: var(--sklearn-color-background);\n",
       "  border-radius: 1rem;\n",
       "  height: 1rem;\n",
       "  width: 1rem;\n",
       "  text-decoration: none;\n",
       "  /* unfitted */\n",
       "  color: var(--sklearn-color-unfitted-level-1);\n",
       "  border: var(--sklearn-color-unfitted-level-1) 1pt solid;\n",
       "}\n",
       "\n",
       "#sk-container-id-2 a.estimator_doc_link.fitted {\n",
       "  /* fitted */\n",
       "  border: var(--sklearn-color-fitted-level-1) 1pt solid;\n",
       "  color: var(--sklearn-color-fitted-level-1);\n",
       "}\n",
       "\n",
       "/* On hover */\n",
       "#sk-container-id-2 a.estimator_doc_link:hover {\n",
       "  /* unfitted */\n",
       "  background-color: var(--sklearn-color-unfitted-level-3);\n",
       "  color: var(--sklearn-color-background);\n",
       "  text-decoration: none;\n",
       "}\n",
       "\n",
       "#sk-container-id-2 a.estimator_doc_link.fitted:hover {\n",
       "  /* fitted */\n",
       "  background-color: var(--sklearn-color-fitted-level-3);\n",
       "}\n",
       "</style><div id=\"sk-container-id-2\" class=\"sk-top-container\"><div class=\"sk-text-repr-fallback\"><pre>RandomForestRegressor(max_features=&#x27;sqrt&#x27;, n_estimators=150)</pre><b>In a Jupyter environment, please rerun this cell to show the HTML representation or trust the notebook. <br />On GitHub, the HTML representation is unable to render, please try loading this page with nbviewer.org.</b></div><div class=\"sk-container\" hidden><div class=\"sk-item\"><div class=\"sk-estimator fitted sk-toggleable\"><input class=\"sk-toggleable__control sk-hidden--visually\" id=\"sk-estimator-id-4\" type=\"checkbox\" checked><label for=\"sk-estimator-id-4\" class=\"sk-toggleable__label fitted sk-toggleable__label-arrow fitted\">&nbsp;&nbsp;RandomForestRegressor<a class=\"sk-estimator-doc-link fitted\" rel=\"noreferrer\" target=\"_blank\" href=\"https://scikit-learn.org/1.5/modules/generated/sklearn.ensemble.RandomForestRegressor.html\">?<span>Documentation for RandomForestRegressor</span></a><span class=\"sk-estimator-doc-link fitted\">i<span>Fitted</span></span></label><div class=\"sk-toggleable__content fitted\"><pre>RandomForestRegressor(max_features=&#x27;sqrt&#x27;, n_estimators=150)</pre></div> </div></div></div></div>"
      ],
      "text/plain": [
       "RandomForestRegressor(max_features='sqrt', n_estimators=150)"
      ]
     },
     "execution_count": 94,
     "metadata": {},
     "output_type": "execute_result"
    }
   ],
   "source": [
    "# Train the model with the best parameters\n",
    "best_model_rf = RandomForestRegressor(**best_params)\n",
    "best_model_rf.fit(X_train, Y_train)"
   ]
  },
  {
   "cell_type": "markdown",
   "id": "3154ad06-471a-4d67-a74f-cdadb04c7c80",
   "metadata": {},
   "source": [
    "Test Improved model on Test Set from Original data set(players_22)"
   ]
  },
  {
   "cell_type": "code",
   "execution_count": 95,
   "id": "91a78435-9462-4199-b2e3-12bdb35401c6",
   "metadata": {},
   "outputs": [],
   "source": [
    "# Test improved model on the data set \n",
    "y_pred_bm = best_model_rf.predict(X_test)"
   ]
  },
  {
   "cell_type": "code",
   "execution_count": 101,
   "id": "ee586a15-8adf-4029-88ab-86834510bc3e",
   "metadata": {},
   "outputs": [
    {
     "name": "stdout",
     "output_type": "stream",
     "text": [
      "Random Forest Regressor Evaluation Metrics:\n",
      "    Mean Absolute Error: 0.9730203219986925\n",
      "    Mean Squared Error: 1.931100120700397\n",
      "    Root Mean Squared Error: 1.3896402846421794\n",
      "    R2 Score: 0.958465155160794\n"
     ]
    }
   ],
   "source": [
    "# Random forest regression metrics of improved model\n",
    "model_eval('Random Forest Regressor',y_pred_bm,Y_test)"
   ]
  },
  {
   "cell_type": "code",
   "execution_count": 103,
   "id": "d82efd1c-764e-4ec2-a3dd-5d81d5c89d9c",
   "metadata": {},
   "outputs": [
    {
     "data": {
      "text/plain": [
       "['C:/Users/user/OneDrive - Ashesi University/Sophomore Year Semester II/Introduction to Artificial Intelligence/Fifa_Assignment/RandomForestRegressor.pkl']"
      ]
     },
     "execution_count": 103,
     "metadata": {},
     "output_type": "execute_result"
    }
   ],
   "source": [
    "file_path = 'C:/Users/user/OneDrive - Ashesi University/Sophomore Year Semester II/Introduction to Artificial Intelligence/Fifa_Assignment/' + best_model_rf.__class__.__name__ + '.pkl'\n",
    "\n",
    "# Save the model using joblib\n",
    "joblib.dump(best_model_rf, file_path)"
   ]
  },
  {
   "cell_type": "code",
   "execution_count": 105,
   "id": "2dac2b38-bac9-4486-a9bb-7840a9f8ac38",
   "metadata": {},
   "outputs": [],
   "source": [
    "def preprocess_sample(sample):\n",
    "    \n",
    "    # Define the threshold for acceptable null values\n",
    "    threshold = 0.3\n",
    "    \n",
    "    # Remove columns with too many null values\n",
    "    null_percentage = sample.isnull().mean()\n",
    "    acceptable_null = null_percentage[null_percentage < threshold].index.tolist()\n",
    "    sample = sample[acceptable_null]\n",
    "\n",
    "    # Separate columns into categorical and numeric\n",
    "    categorical_col = sample.select_dtypes(include=['object'])\n",
    "    numeric_col = sample.select_dtypes(include=np.number)\n",
    "\n",
    "    # Impute null values in numeric columns\n",
    "    null_numeric_columns = numeric_col.columns[numeric_col.isnull().any()]\n",
    "    imputed_numeric_col = pd.DataFrame(np.round(imp.fit_transform(numeric_col[null_numeric_columns])),\n",
    "                                   columns=null_numeric_columns)\n",
    "    numeric_col = pd.concat([numeric_col.drop(columns=null_numeric_columns), imputed_numeric_col], axis=1)\n",
    "\n",
    "    # Impute null values in categorical columns\n",
    "    null_categorical_col = categorical_col.columns[categorical_col.isnull().any()]\n",
    "    imputed_categorical_col = pd.DataFrame(mode_imputer.fit_transform(categorical_col[null_categorical_col]), columns=null_categorical_col)\n",
    "    categorical_col = pd.concat([categorical_col.drop(columns=null_categorical_col), imputed_categorical_col], axis=1)\n",
    "\n",
    "    # Encode categorical columns and scale numeric columns\n",
    "    for col in categorical_col.columns:\n",
    "        categorical_col[col] = label_encoder.fit_transform(categorical_col[col].astype(str))  # Encode and convert to string\n",
    "\n",
    "    # Convert all columns to numeric for scaling\n",
    "    categorical_col = categorical_col.astype(float)\n",
    "\n",
    "    # Scale the sample\n",
    "    scaled_cat_sample = scale.fit_transform(categorical_col)\n",
    "\n",
    "    # Convert scaled sample back to DataFrame\n",
    "    categorical_col = pd.DataFrame(scaled_cat_sample, columns=categorical_col.columns)\n",
    "    \n",
    "    # Combine numeric and categorical columns\n",
    "    sample = pd.concat([numeric_col, categorical_col], axis=1)\n",
    "    \n",
    "    return sample\n",
    "\n",
    "def feature_engineering(sample):\n",
    "    sample_corr = sample.corr()\n",
    "    overall_corr = sample_corr['overall']  # Assuming 'overall' is a target or important feature\n",
    "    filtered_col = overall_corr[overall_corr.abs() > 0.5].index.tolist()\n",
    "    sample = sample[filtered_col]\n",
    "    return sample"
   ]
  },
  {
   "cell_type": "markdown",
   "id": "9fa5ad8e-f745-4be7-bc9a-5e133901da2a",
   "metadata": {},
   "source": [
    "Train and Test Model Again with New data"
   ]
  },
  {
   "cell_type": "code",
   "execution_count": 108,
   "id": "c83698a8-27f0-4603-9448-8cbd233d04df",
   "metadata": {},
   "outputs": [],
   "source": [
    "#Clean testing data\n",
    "data_for_test = preprocess_sample(testing_data)"
   ]
  },
  {
   "cell_type": "code",
   "execution_count": 110,
   "id": "486e2afb-5d6b-441b-a0cc-7968cfa914d2",
   "metadata": {},
   "outputs": [],
   "source": [
    "#Feature enigeer to pick relevant columns in test data \n",
    "data_for_test = feature_engineering(data_for_test)"
   ]
  },
  {
   "cell_type": "code",
   "execution_count": 112,
   "id": "81c837bf-2411-4567-8d0d-21dde1b889a0",
   "metadata": {},
   "outputs": [],
   "source": [
    "#Inherit the the features of the main data set \n",
    "data_for_test = data_for_test[data.columns]"
   ]
  },
  {
   "cell_type": "code",
   "execution_count": 114,
   "id": "2ec8edb5-7a60-4363-98b3-3fac53d7a8ce",
   "metadata": {},
   "outputs": [
    {
     "name": "stdout",
     "output_type": "stream",
     "text": [
      "Index(['overall', 'potential', 'movement_reactions', 'value_eur', 'wage_eur',\n",
      "       'passing', 'dribbling', 'physic', 'mentality_composure'],\n",
      "      dtype='object')\n",
      "(161583, 9)\n"
     ]
    }
   ],
   "source": [
    "print(data_for_test.columns)\n",
    "print(data.shape)"
   ]
  },
  {
   "cell_type": "code",
   "execution_count": 116,
   "id": "c9335ba8-8bfb-4089-9304-5c2cd36cb898",
   "metadata": {},
   "outputs": [
    {
     "data": {
      "image/png": "[encoded data removed]",
      "text/plain": [
       "<Figure size 1000x600 with 1 Axes>"
      ]
     },
     "metadata": {},
     "output_type": "display_data"
    }
   ],
   "source": [
    "#Plot correlation of test data \n",
    "plot_correlation(data_for_test,'overall',data_for_test.drop('overall',axis = 1).columns.tolist())"
   ]
  },
  {
   "cell_type": "markdown",
   "id": "bed6e0c7-bbb4-4e30-ae17-2b15d0d61502",
   "metadata": {},
   "source": [
    "Testing With New Data Set"
   ]
  },
  {
   "cell_type": "code",
   "execution_count": 119,
   "id": "a0b8fd31-4799-4368-a375-1664c4cffe14",
   "metadata": {},
   "outputs": [],
   "source": [
    "#split data into X-test and Y-test\n",
    "Y_new_test= data_for_test['overall'] #dependent variable\n",
    "\n",
    "X_new_test = data_for_test.drop('overall', axis = 1) #independent variable\n",
    "\n",
    "#Scale independent variable\n",
    "scaled  = scale.fit_transform(X_new_test)\n",
    "X_new_test = pd.DataFrame(scaled, columns = X_new_test.columns)"
   ]
  },
  {
   "cell_type": "code",
   "execution_count": 121,
   "id": "55c332ad-0dcc-4cb4-9ffe-b938d0346ec1",
   "metadata": {},
   "outputs": [],
   "source": [
    "new_prediction = best_model_rf.predict(X_new_test)"
   ]
  },
  {
   "cell_type": "code",
   "execution_count": 123,
   "id": "590b320b-4568-4675-b851-580fd498f66f",
   "metadata": {},
   "outputs": [
    {
     "name": "stdout",
     "output_type": "stream",
     "text": [
      "Actual vs Predicted\n",
      "------------------\n",
      "93     | 92.35333333333334\n",
      "92     | 91.04 \n",
      "91     | 90.63333333333334\n",
      "91     | 91.22666666666667\n",
      "91     | 90.80666666666667\n",
      "91     | 88.28666666666666\n",
      "91     | 91.34666666666666\n",
      "90     | 85.48666666666666\n",
      "90     | 88.84666666666666\n",
      "90     | 89.75333333333333\n"
     ]
    }
   ],
   "source": [
    "compare_output(Y_new_test,new_prediction)"
   ]
  },
  {
   "cell_type": "code",
   "execution_count": 542,
   "id": "df83071f-23e7-4acc-8457-0f4830b7b481",
   "metadata": {},
   "outputs": [
    {
     "data": {
      "text/html": [
       "<div>\n",
       "<style scoped>\n",
       "    .dataframe tbody tr th:only-of-type {\n",
       "        vertical-align: middle;\n",
       "    }\n",
       "\n",
       "    .dataframe tbody tr th {\n",
       "        vertical-align: top;\n",
       "    }\n",
       "\n",
       "    .dataframe thead th {\n",
       "        text-align: right;\n",
       "    }\n",
       "</style>\n",
       "<table border=\"1\" class=\"dataframe\">\n",
       "  <thead>\n",
       "    <tr style=\"text-align: right;\">\n",
       "      <th></th>\n",
       "      <th>overall</th>\n",
       "      <th>potential</th>\n",
       "      <th>movement_reactions</th>\n",
       "      <th>value_eur</th>\n",
       "      <th>wage_eur</th>\n",
       "      <th>passing</th>\n",
       "      <th>dribbling</th>\n",
       "      <th>physic</th>\n",
       "      <th>mentality_composure</th>\n",
       "    </tr>\n",
       "  </thead>\n",
       "  <tbody>\n",
       "    <tr>\n",
       "      <th>0</th>\n",
       "      <td>93</td>\n",
       "      <td>95</td>\n",
       "      <td>94</td>\n",
       "      <td>100500000.0</td>\n",
       "      <td>550000.0</td>\n",
       "      <td>86.0</td>\n",
       "      <td>96.0</td>\n",
       "      <td>63.0</td>\n",
       "      <td>95.0</td>\n",
       "    </tr>\n",
       "    <tr>\n",
       "      <th>1</th>\n",
       "      <td>92</td>\n",
       "      <td>92</td>\n",
       "      <td>90</td>\n",
       "      <td>79000000.0</td>\n",
       "      <td>375000.0</td>\n",
       "      <td>81.0</td>\n",
       "      <td>91.0</td>\n",
       "      <td>79.0</td>\n",
       "      <td>94.0</td>\n",
       "    </tr>\n",
       "  </tbody>\n",
       "</table>\n",
       "</div>"
      ],
      "text/plain": [
       "   overall  potential  movement_reactions    value_eur  wage_eur  passing  \\\n",
       "0       93         95                  94  100500000.0  550000.0     86.0   \n",
       "1       92         92                  90   79000000.0  375000.0     81.0   \n",
       "\n",
       "   dribbling  physic  mentality_composure  \n",
       "0       96.0    63.0                 95.0  \n",
       "1       91.0    79.0                 94.0  "
      ]
     },
     "execution_count": 542,
     "metadata": {},
     "output_type": "execute_result"
    }
   ],
   "source": [
    "data.head(2)"
   ]
  },
  {
   "cell_type": "markdown",
   "id": "cbf45d00-a912-45b8-ba54-3299b63180df",
   "metadata": {},
   "source": [
    "Deploy Model "
   ]
  },
  {
   "cell_type": "code",
   "execution_count": 540,
   "id": "3b45a7d3-0f79-4cb0-8232-a7852776302c",
   "metadata": {},
   "outputs": [
    {
     "data": {
      "text/plain": [
       "112.0"
      ]
     },
     "execution_count": 540,
     "metadata": {},
     "output_type": "execute_result"
    }
   ],
   "source": [
    "# data['mentality_composure'].max()"
   ]
  }
 ],
 "metadata": {
  "kernelspec": {
   "display_name": "Python 3 (ipykernel)",
   "language": "python",
   "name": "python3"
  },
  "language_info": {
   "codemirror_mode": {
    "name": "ipython",
    "version": 3
   },
   "file_extension": ".py",
   "mimetype": "text/x-python",
   "name": "python",
   "nbconvert_exporter": "python",
   "pygments_lexer": "ipython3",
   "version": "3.11.7"
  }
 },
 "nbformat": 4,
 "nbformat_minor": 5
}
